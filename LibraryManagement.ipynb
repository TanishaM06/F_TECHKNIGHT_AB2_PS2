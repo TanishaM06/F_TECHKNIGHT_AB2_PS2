{
  "nbformat": 4,
  "nbformat_minor": 0,
  "metadata": {
    "colab": {
      "provenance": [],
      "authorship_tag": "ABX9TyOFp1My4nlPLnXVP2SGUnlP",
      "include_colab_link": true
    },
    "kernelspec": {
      "name": "python3",
      "display_name": "Python 3"
    },
    "language_info": {
      "name": "python"
    }
  },
  "cells": [
    {
      "cell_type": "markdown",
      "metadata": {
        "id": "view-in-github",
        "colab_type": "text"
      },
      "source": [
        "<a href=\"https://colab.research.google.com/github/TanishaM06/F_TECHKNIGHT_AB2_PS2/blob/main/LibraryManagement.ipynb\" target=\"_parent\"><img src=\"https://colab.research.google.com/assets/colab-badge.svg\" alt=\"Open In Colab\"/></a>"
      ]
    },
    {
      "cell_type": "code",
      "source": [
        "# library_borrow_manager.py\n",
        "\n",
        "# Simple Library Borrowing Record Manager\n",
        "\n",
        "# Simple data: Member ID and their list of borrowed\n",
        "library_data = {\n",
        "    \"m001\": [\"C language\", \"Python\",\"Java\"],\n",
        "    \"m002\": [\"Object Orriented Programming\" , \"FDS\"],\n",
        "    \"m003\": [\"C++\"],\n",
        "    \"m004\": [\"C#\" ,  \"Object Orriented Programming\"],\n",
        "    \"m005\": [],\n",
        "    }\n",
        "#1. average numbers of Books Borrowed\n",
        "total_members = len (library_data)\n",
        "print(\"Total numbers of members in library\", total_members)\n",
        "\n",
        "total_books_borrowed = sum(len(books) for books in library_data.values())\n",
        "average = total_books_borrowed/total_members\n",
        "print(\"average book bvorrowed:\", average)\n",
        "\n",
        "#2. Most and least borrowed books\n",
        "all_books = []\n",
        "for books in library_data.values():\n",
        "    all_books.extend(books)\n",
        "\n",
        "book_counts = {}\n",
        "for book in all_books:\n",
        "    if book in book_counts:\n",
        "        book_counts[book] += 1\n",
        "    else:\n",
        "        book_counts[book] =  1\n",
        "\n",
        "most_borrowed = max(book_counts, key=book_counts.get)\n",
        "least_borrowed = min(book_counts, key=book_counts.get)\n",
        "\n",
        "print(\"most borrowed books:\", most_borrowed)\n",
        "print(\"least borrowed books:\", least_borrowed)\n",
        "\n",
        "#3. Count members who borrowed no books\n",
        "zero_borrowers = sum(1 for books in library_data.values() if len(books) == 0)\n",
        "print(\"Members with 0 borrowings:\", zero_borrowers)"
      ],
      "metadata": {
        "colab": {
          "base_uri": "https://localhost:8080/"
        },
        "id": "m_iSLUU7lt3S",
        "outputId": "2fac4f68-cd58-4df3-c21a-feeef24a9a76"
      },
      "execution_count": 1,
      "outputs": [
        {
          "output_type": "stream",
          "name": "stdout",
          "text": [
            "Total numbers of members in library 5\n",
            "average book bvorrowed: 1.6\n",
            "most borrowed books: Object Orriented Programming\n",
            "least borrowed books: C language\n",
            "Members with 0 borrowings: 1\n"
          ]
        }
      ]
    }
  ]
}